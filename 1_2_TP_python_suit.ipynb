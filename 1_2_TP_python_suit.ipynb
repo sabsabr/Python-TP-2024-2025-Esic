{
  "nbformat": 4,
  "nbformat_minor": 0,
  "metadata": {
    "colab": {
      "provenance": []
    },
    "kernelspec": {
      "name": "python3",
      "display_name": "Python 3"
    },
    "language_info": {
      "name": "python"
    }
  },
  "cells": [
    {
      "cell_type": "markdown",
      "source": [
        "Exercice1"
      ],
      "metadata": {
        "id": "xhpUQUGQNzMT"
      }
    },
    {
      "cell_type": "code",
      "source": [
        "#créer ube variable chaine\n",
        "chaine = \"Il fait beau aujourd'hui. Je veux en profiter. \"\n",
        "print(chaine)"
      ],
      "metadata": {
        "colab": {
          "base_uri": "https://localhost:8080/"
        },
        "id": "jO7y8m8xN1qh",
        "outputId": "5a3b6427-f07a-48e5-ee0f-d4d9ef6abf40"
      },
      "execution_count": 1,
      "outputs": [
        {
          "output_type": "stream",
          "name": "stdout",
          "text": [
            "Il fait beau aujourd'hui. Je veux en profiter. \n"
          ]
        }
      ]
    },
    {
      "cell_type": "code",
      "source": [
        "#remplacer les points par point d'exclamation\n",
        "chaine = chaine.replace('.', '!')\n",
        "print(chaine)  # Résultat : \"Il fait beau aujourd'hui ! Je veux en profiter ! \""
      ],
      "metadata": {
        "colab": {
          "base_uri": "https://localhost:8080/"
        },
        "id": "Y5ISAm2TOIZX",
        "outputId": "4e0ffdd7-0f92-4f42-f2df-ccdaefda4dd7"
      },
      "execution_count": 2,
      "outputs": [
        {
          "output_type": "stream",
          "name": "stdout",
          "text": [
            "Il fait beau aujourd'hui! Je veux en profiter! \n"
          ]
        }
      ]
    },
    {
      "cell_type": "code",
      "source": [
        "#mettre toute la chaine en minscule\n",
        "chaine_minuscule = chaine.lower()\n",
        "print(chaine_minuscule)  # Résultat : \"il fait beau aujourd'hui ! je veux en profiter ! \""
      ],
      "metadata": {
        "colab": {
          "base_uri": "https://localhost:8080/"
        },
        "id": "RtH3KWIcObdi",
        "outputId": "329f4691-d3d1-4473-d359-dd7c2bed48d5"
      },
      "execution_count": 3,
      "outputs": [
        {
          "output_type": "stream",
          "name": "stdout",
          "text": [
            "il fait beau aujourd'hui! je veux en profiter! \n"
          ]
        }
      ]
    },
    {
      "cell_type": "code",
      "source": [
        "#en majescul\n",
        "chaine_majuscule = chaine.upper()\n",
        "print(chaine_majuscule)  # Résultat : \"IL FAIT BEAU AUJOURD'HUI ! JE VEUX EN PROFITER ! \"\n"
      ],
      "metadata": {
        "colab": {
          "base_uri": "https://localhost:8080/"
        },
        "id": "s4qWE6-7Ol08",
        "outputId": "4b2ac655-a0b6-4ef7-aa21-23d16c4aaeeb"
      },
      "execution_count": 4,
      "outputs": [
        {
          "output_type": "stream",
          "name": "stdout",
          "text": [
            "IL FAIT BEAU AUJOURD'HUI! JE VEUX EN PROFITER! \n"
          ]
        }
      ]
    },
    {
      "cell_type": "code",
      "source": [
        "#trouver l'indice de caractére b\n",
        "indice_b = chaine.find('b')\n",
        "print(indice_b)  # Résultat : 8"
      ],
      "metadata": {
        "colab": {
          "base_uri": "https://localhost:8080/"
        },
        "id": "UYV9ni6ZOzKc",
        "outputId": "88fe81c4-3c52-4648-dcc4-f6b06b40f8a1"
      },
      "execution_count": 5,
      "outputs": [
        {
          "output_type": "stream",
          "name": "stdout",
          "text": [
            "8\n"
          ]
        }
      ]
    },
    {
      "cell_type": "markdown",
      "source": [
        "exercice2\n"
      ],
      "metadata": {
        "id": "t5QN0D2kPqBc"
      }
    },
    {
      "cell_type": "code",
      "source": [
        "def premierMot(chaine):\n",
        "    # Supprimer les espaces en début et fin de chaîne\n",
        "    chaine = chaine.strip()\n",
        "    # Diviser la chaîne en mots en utilisant les espaces comme séparateurs\n",
        "    mots = chaine.split()\n",
        "    # Retourner le premier mot s'il y en a, sinon retourner une chaîne vide\n",
        "    return mots[0] if mots else \"\"\n",
        "\n",
        "# Exemple d'utilisation\n",
        "chaine = \"samedi soir, je vais au cinéma\"\n",
        "print(premierMot(chaine))  # Résultat : \"samedi\""
      ],
      "metadata": {
        "colab": {
          "base_uri": "https://localhost:8080/"
        },
        "id": "6Dj1aC3wQ1cz",
        "outputId": "1a038dd9-a4c9-4bdb-fc23-65776f85b13f"
      },
      "execution_count": 6,
      "outputs": [
        {
          "output_type": "stream",
          "name": "stdout",
          "text": [
            "samedi\n"
          ]
        }
      ]
    },
    {
      "cell_type": "markdown",
      "source": [
        "exercice 3"
      ],
      "metadata": {
        "id": "DBBGu-eiRLVc"
      }
    },
    {
      "cell_type": "code",
      "source": [
        "def majuscule_mot(chaine):\n",
        "    # Utiliser la méthode title() qui met en majuscule la première lettre de chaque mot\n",
        "    return chaine.title()\n",
        "\n",
        "# Exemple d'utilisation\n",
        "chaine = \"je mange du fromage\"\n",
        "print(majuscule_mot(chaine))  # Résultat : \"Je Mange Du Fromage\""
      ],
      "metadata": {
        "colab": {
          "base_uri": "https://localhost:8080/"
        },
        "id": "5e0oRfynRNBX",
        "outputId": "226e37e8-3909-4483-ce68-94f5e0b392f9"
      },
      "execution_count": 7,
      "outputs": [
        {
          "output_type": "stream",
          "name": "stdout",
          "text": [
            "Je Mange Du Fromage\n"
          ]
        }
      ]
    },
    {
      "cell_type": "markdown",
      "source": [
        "Exercice 4"
      ],
      "metadata": {
        "id": "tdCZ2r2uSFtM"
      }
    },
    {
      "cell_type": "code",
      "source": [
        "def inverser_phrase(phrase):\n",
        "    # Diviser la phrase en mots\n",
        "    mots = phrase.split()\n",
        "    # Inverser l'ordre des mots\n",
        "    mots_inverses = mots[::-1]\n",
        "    # Rejoindre les mots inversés en une nouvelle phrase\n",
        "    phrase_inversee = \" \".join(mots_inverses)\n",
        "    return phrase_inversee\n",
        "\n",
        "# Exemple d'utilisation\n",
        "phrase = \"J’en suis tout retourné\"\n",
        "print(inverser_phrase(phrase))  # Résultat : \"retourné tout suis J’en\""
      ],
      "metadata": {
        "colab": {
          "base_uri": "https://localhost:8080/"
        },
        "id": "qCJvafvGSHhd",
        "outputId": "b5f81ffe-a54e-4ddc-f1e8-3e1e5d190582"
      },
      "execution_count": 8,
      "outputs": [
        {
          "output_type": "stream",
          "name": "stdout",
          "text": [
            "retourné tout suis J’en\n"
          ]
        }
      ]
    },
    {
      "cell_type": "markdown",
      "source": [
        "exercice 5"
      ],
      "metadata": {
        "id": "ebXKCA6uSZhr"
      }
    },
    {
      "cell_type": "code",
      "source": [
        "def image(mot):\n",
        "    \"\"\"\n",
        "    Génère le terme suivant de la suite \"look-and-say\" à partir du terme donné.\n",
        "    \"\"\"\n",
        "    resultat = \"\"\n",
        "    i = 0\n",
        "\n",
        "    while i < len(mot):\n",
        "        # Compter le nombre de répétitions consécutives du chiffre courant\n",
        "        count = 1\n",
        "        while i + 1 < len(mot) and mot[i] == mot[i + 1]:\n",
        "            count += 1\n",
        "            i += 1\n",
        "\n",
        "        # Ajouter le nombre et le chiffre au résultat\n",
        "        resultat += str(count) + mot[i]\n",
        "        i += 1\n",
        "\n",
        "    return resultat\n",
        "\n",
        "\n",
        "def afficher_termes_conway(n):\n",
        "    \"\"\"\n",
        "    Affiche les n premiers termes de la suite de Conway.\n",
        "    \"\"\"\n",
        "    terme = \"1\"  # Premier terme de la suite\n",
        "    print(terme)\n",
        "\n",
        "    for _ in range(n - 1):\n",
        "        terme = image(terme)\n",
        "        print(terme)\n",
        "\n",
        "\n",
        "# Afficher les 20 premiers termes\n",
        "afficher_termes_conway(20)"
      ],
      "metadata": {
        "colab": {
          "base_uri": "https://localhost:8080/"
        },
        "id": "y87GGWkESbNE",
        "outputId": "413463e3-dbf7-4c12-ba85-ddf04f6d2dbd"
      },
      "execution_count": 9,
      "outputs": [
        {
          "output_type": "stream",
          "name": "stdout",
          "text": [
            "1\n",
            "11\n",
            "21\n",
            "1211\n",
            "111221\n",
            "312211\n",
            "13112221\n",
            "1113213211\n",
            "31131211131221\n",
            "13211311123113112211\n",
            "11131221133112132113212221\n",
            "3113112221232112111312211312113211\n",
            "1321132132111213122112311311222113111221131221\n",
            "11131221131211131231121113112221121321132132211331222113112211\n",
            "311311222113111231131112132112311321322112111312211312111322212311322113212221\n",
            "132113213221133112132113311211131221121321131211132221123113112221131112311332111213211322211312113211\n",
            "11131221131211132221232112111312212321123113112221121113122113111231133221121321132132211331121321231231121113122113322113111221131221\n",
            "31131122211311123113321112131221123113112211121312211213211321322112311311222113311213212322211211131221131211132221232112111312111213111213211231131122212322211331222113112211\n",
            "1321132132211331121321231231121113112221121321132122311211131122211211131221131211132221121321132132212321121113121112133221123113112221131112311332111213122112311311123112111331121113122112132113213211121332212311322113212221\n",
            "11131221131211132221232112111312111213111213211231132132211211131221131211221321123113213221123113112221131112311332211211131221131211132211121312211231131112311211232221121321132132211331121321231231121113112221121321133112132112312321123113112221121113122113121113123112112322111213211322211312113211\n"
          ]
        }
      ]
    }
  ]
}