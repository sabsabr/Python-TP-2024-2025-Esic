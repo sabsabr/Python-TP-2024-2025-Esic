{
  "nbformat": 4,
  "nbformat_minor": 0,
  "metadata": {
    "colab": {
      "provenance": []
    },
    "kernelspec": {
      "name": "python3",
      "display_name": "Python 3"
    },
    "language_info": {
      "name": "python"
    }
  },
  "cells": [
    {
      "cell_type": "markdown",
      "source": [
        "Exercice1 : Bonjour tout le monde\n"
      ],
      "metadata": {
        "id": "HOjz8WYXOLSv"
      }
    },
    {
      "cell_type": "code",
      "source": [
        "# Programme pour afficher \"Bonjour le Monde\"\n",
        "print(\"Bonjour le Monde\")"
      ],
      "metadata": {
        "colab": {
          "base_uri": "https://localhost:8080/"
        },
        "id": "Qm2Zgrk_OfRW",
        "outputId": "336a6930-3da3-461f-df7d-44c892138eca"
      },
      "execution_count": 1,
      "outputs": [
        {
          "output_type": "stream",
          "name": "stdout",
          "text": [
            "Bonjour le Monde\n"
          ]
        }
      ]
    },
    {
      "cell_type": "markdown",
      "source": [
        "Exercice 2: Clacul l'age"
      ],
      "metadata": {
        "id": "IIL4Ak88On-w"
      }
    },
    {
      "cell_type": "code",
      "source": [
        "# Programme pour calculer l'âge\n",
        "# Demander l'année de naissance de l'utilisateur\n",
        "annee_naissance = int(input(\"Entrez votre année de naissance : \"))\n",
        "\n",
        "# Calculer l'année actuelle\n",
        "from datetime import datetime\n",
        "annee_actuelle = datetime.now().year\n",
        "\n",
        "# Calculer l'âge\n",
        "age = annee_actuelle - annee_naissance\n",
        "\n",
        "# Afficher l'âge\n",
        "print(f\"Vous avez {age} ans.\")"
      ],
      "metadata": {
        "colab": {
          "base_uri": "https://localhost:8080/"
        },
        "id": "IhPfdSImOsmV",
        "outputId": "4990fc64-d4a6-4397-ab86-8cb24a33313a"
      },
      "execution_count": 2,
      "outputs": [
        {
          "output_type": "stream",
          "name": "stdout",
          "text": [
            "Entrez votre année de naissance : 1997\n",
            "Vous avez 27 ans.\n"
          ]
        }
      ]
    },
    {
      "cell_type": "markdown",
      "source": [
        "Exercice 3:pair et impair\n"
      ],
      "metadata": {
        "id": "bw0gA-xlO02_"
      }
    },
    {
      "cell_type": "code",
      "source": [
        "# Programme pour vérifier si un nombre est pair ou impair\n",
        "\n",
        "# Demander à l'utilisateur de saisir un nombre\n",
        "nombre = int(input(\"Entrez un nombre : \"))\n",
        "\n",
        "# Vérifier si le nombre est pair ou impair\n",
        "if nombre % 2 == 0:  # Utilisation de l'opérateur modulo\n",
        "    print(\"Le nombre est pair.\")\n",
        "else:\n",
        "    print(\"Le nombre est impair.\")"
      ],
      "metadata": {
        "colab": {
          "base_uri": "https://localhost:8080/"
        },
        "id": "ZsXHm13pO9m9",
        "outputId": "9aab594d-7d7a-4c7d-9ae5-bd38db8c0bd3"
      },
      "execution_count": 3,
      "outputs": [
        {
          "output_type": "stream",
          "name": "stdout",
          "text": [
            "Entrez un nombre : 15\n",
            "Le nombre est impair.\n"
          ]
        }
      ]
    },
    {
      "cell_type": "markdown",
      "source": [
        "Exercice 4: Somme de nombre\n"
      ],
      "metadata": {
        "id": "dhzCkjAYPEE1"
      }
    },
    {
      "cell_type": "code",
      "source": [
        "# Programme pour calculer la somme des nombres de 1 à n\n",
        "\n",
        "# Demander à l'utilisateur de saisir un nombre\n",
        "n = int(input(\"Entrez un nombre entier positif : \"))\n",
        "\n",
        "# Initialiser la variable pour la somme\n",
        "somme = 0\n",
        "\n",
        "# Utiliser une boucle pour calculer la somme des nombres de 1 à n\n",
        "for i in range(1, n + 1):  # La boucle commence à 1 et va jusqu'à n inclus\n",
        "    somme += i  # Ajouter i à la somme\n",
        "\n",
        "# Afficher le résultat\n",
        "print(f\"La somme des nombres de 1 à {n} est : {somme}\")"
      ],
      "metadata": {
        "colab": {
          "base_uri": "https://localhost:8080/"
        },
        "id": "3NRj1hdtPPoL",
        "outputId": "53757a5b-db49-4b96-dc24-11725c64b1a0"
      },
      "execution_count": 4,
      "outputs": [
        {
          "output_type": "stream",
          "name": "stdout",
          "text": [
            "Entrez un nombre entier positif : 26\n",
            "La somme des nombres de 1 à 26 est : 351\n"
          ]
        }
      ]
    },
    {
      "cell_type": "markdown",
      "source": [
        "Exercice 5:Table de multiplication"
      ],
      "metadata": {
        "id": "K3Ki7DjyPYi1"
      }
    },
    {
      "cell_type": "code",
      "source": [
        "# Programme pour afficher les tables de multiplication de 1 à 10\n",
        "\n",
        "# Boucle pour les nombres de 1 à 10\n",
        "for i in range(1, 11):  # Première boucle pour les lignes\n",
        "    print(f\"Table de {i} :\")  # Titre de chaque table\n",
        "    for j in range(1, 11):  # Deuxième boucle pour les colonnes\n",
        "        resultat = i * j  # Calcul de la multiplication\n",
        "        print(f\"{i} x {j} = {resultat}\")  # Affichage du résultat\n",
        "    print()  # Ligne vide pour séparer les tables"
      ],
      "metadata": {
        "colab": {
          "base_uri": "https://localhost:8080/"
        },
        "id": "25nmLiJ-PixL",
        "outputId": "4c16c50e-0a54-485c-e594-74e4dd76ab7a"
      },
      "execution_count": 5,
      "outputs": [
        {
          "output_type": "stream",
          "name": "stdout",
          "text": [
            "Table de 1 :\n",
            "1 x 1 = 1\n",
            "1 x 2 = 2\n",
            "1 x 3 = 3\n",
            "1 x 4 = 4\n",
            "1 x 5 = 5\n",
            "1 x 6 = 6\n",
            "1 x 7 = 7\n",
            "1 x 8 = 8\n",
            "1 x 9 = 9\n",
            "1 x 10 = 10\n",
            "\n",
            "Table de 2 :\n",
            "2 x 1 = 2\n",
            "2 x 2 = 4\n",
            "2 x 3 = 6\n",
            "2 x 4 = 8\n",
            "2 x 5 = 10\n",
            "2 x 6 = 12\n",
            "2 x 7 = 14\n",
            "2 x 8 = 16\n",
            "2 x 9 = 18\n",
            "2 x 10 = 20\n",
            "\n",
            "Table de 3 :\n",
            "3 x 1 = 3\n",
            "3 x 2 = 6\n",
            "3 x 3 = 9\n",
            "3 x 4 = 12\n",
            "3 x 5 = 15\n",
            "3 x 6 = 18\n",
            "3 x 7 = 21\n",
            "3 x 8 = 24\n",
            "3 x 9 = 27\n",
            "3 x 10 = 30\n",
            "\n",
            "Table de 4 :\n",
            "4 x 1 = 4\n",
            "4 x 2 = 8\n",
            "4 x 3 = 12\n",
            "4 x 4 = 16\n",
            "4 x 5 = 20\n",
            "4 x 6 = 24\n",
            "4 x 7 = 28\n",
            "4 x 8 = 32\n",
            "4 x 9 = 36\n",
            "4 x 10 = 40\n",
            "\n",
            "Table de 5 :\n",
            "5 x 1 = 5\n",
            "5 x 2 = 10\n",
            "5 x 3 = 15\n",
            "5 x 4 = 20\n",
            "5 x 5 = 25\n",
            "5 x 6 = 30\n",
            "5 x 7 = 35\n",
            "5 x 8 = 40\n",
            "5 x 9 = 45\n",
            "5 x 10 = 50\n",
            "\n",
            "Table de 6 :\n",
            "6 x 1 = 6\n",
            "6 x 2 = 12\n",
            "6 x 3 = 18\n",
            "6 x 4 = 24\n",
            "6 x 5 = 30\n",
            "6 x 6 = 36\n",
            "6 x 7 = 42\n",
            "6 x 8 = 48\n",
            "6 x 9 = 54\n",
            "6 x 10 = 60\n",
            "\n",
            "Table de 7 :\n",
            "7 x 1 = 7\n",
            "7 x 2 = 14\n",
            "7 x 3 = 21\n",
            "7 x 4 = 28\n",
            "7 x 5 = 35\n",
            "7 x 6 = 42\n",
            "7 x 7 = 49\n",
            "7 x 8 = 56\n",
            "7 x 9 = 63\n",
            "7 x 10 = 70\n",
            "\n",
            "Table de 8 :\n",
            "8 x 1 = 8\n",
            "8 x 2 = 16\n",
            "8 x 3 = 24\n",
            "8 x 4 = 32\n",
            "8 x 5 = 40\n",
            "8 x 6 = 48\n",
            "8 x 7 = 56\n",
            "8 x 8 = 64\n",
            "8 x 9 = 72\n",
            "8 x 10 = 80\n",
            "\n",
            "Table de 9 :\n",
            "9 x 1 = 9\n",
            "9 x 2 = 18\n",
            "9 x 3 = 27\n",
            "9 x 4 = 36\n",
            "9 x 5 = 45\n",
            "9 x 6 = 54\n",
            "9 x 7 = 63\n",
            "9 x 8 = 72\n",
            "9 x 9 = 81\n",
            "9 x 10 = 90\n",
            "\n",
            "Table de 10 :\n",
            "10 x 1 = 10\n",
            "10 x 2 = 20\n",
            "10 x 3 = 30\n",
            "10 x 4 = 40\n",
            "10 x 5 = 50\n",
            "10 x 6 = 60\n",
            "10 x 7 = 70\n",
            "10 x 8 = 80\n",
            "10 x 9 = 90\n",
            "10 x 10 = 100\n",
            "\n"
          ]
        }
      ]
    },
    {
      "cell_type": "markdown",
      "source": [
        "Exercice 6: Trouver le plus grand de nombre"
      ],
      "metadata": {
        "id": "RQgULIaPPp1K"
      }
    },
    {
      "cell_type": "code",
      "source": [
        "# Programme pour trouver le plus grand nombre parmi 5 nombres\n",
        "\n",
        "# Initialiser une liste pour stocker les nombres\n",
        "nombres = []\n",
        "\n",
        "# Demander à l'utilisateur de saisir cinq nombres\n",
        "print(\"Veuillez entrer 5 nombres :\")\n",
        "for i in range(5):\n",
        "    nombre = float(input(f\"Nombre {i + 1} : \"))  # Convertir en float pour accepter les décimaux\n",
        "    nombres.append(nombre)  # Ajouter le nombre à la liste\n",
        "\n",
        "# Trouver le plus grand nombre\n",
        "plus_grand = max(nombres)\n",
        "\n",
        "# Afficher le plus grand nombre\n",
        "print(f\"Le plus grand nombre parmi {nombres} est : {plus_grand}\")"
      ],
      "metadata": {
        "colab": {
          "base_uri": "https://localhost:8080/"
        },
        "id": "kqeotoC7Qt_Y",
        "outputId": "f3057017-20a6-4dbf-f34a-8848b270aceb"
      },
      "execution_count": 7,
      "outputs": [
        {
          "output_type": "stream",
          "name": "stdout",
          "text": [
            "Veuillez entrer 5 nombres :\n",
            "Nombre 1 : 15\n",
            "Nombre 2 : 20\n",
            "Nombre 3 : 31\n",
            "Nombre 4 : 28\n",
            "Nombre 5 : 10\n",
            "Le plus grand nombre parmi [15.0, 20.0, 31.0, 28.0, 10.0] est : 31.0\n"
          ]
        }
      ]
    },
    {
      "cell_type": "markdown",
      "source": [
        "Exercice 7: Compter les voyeles"
      ],
      "metadata": {
        "id": "FotXPE97Q21j"
      }
    },
    {
      "cell_type": "code",
      "source": [
        "# Programme pour compter les voyelles dans une phrase\n",
        "\n",
        "# Demander à l'utilisateur de saisir une phrase\n",
        "phrase = input(\"Entrez une phrase : \")\n",
        "\n",
        "# Définir les voyelles\n",
        "voyelles = \"aeiouAEIOU\"\n",
        "\n",
        "# Initialiser le compteur de voyelles\n",
        "compteur = 0\n",
        "\n",
        "# Parcourir chaque caractère de la phrase\n",
        "for caractere in phrase:\n",
        "    if caractere in voyelles:  # Vérifier si le caractère est une voyelle\n",
        "        compteur += 1  # Incrémenter le compteur\n",
        "\n",
        "# Afficher le résultat\n",
        "print(f\"Le nombre de voyelles dans la phrase est : {compteur}\")"
      ],
      "metadata": {
        "colab": {
          "base_uri": "https://localhost:8080/"
        },
        "id": "Atw8v4wxRHkG",
        "outputId": "eedca594-3e98-44ea-fcc5-5fabf5ff6487"
      },
      "execution_count": 8,
      "outputs": [
        {
          "output_type": "stream",
          "name": "stdout",
          "text": [
            "Entrez une phrase :  je suis belle \n",
            "Le nombre de voyelles dans la phrase est : 5\n"
          ]
        }
      ]
    },
    {
      "cell_type": "markdown",
      "source": [
        "Exercice 8:Inverser une chaine"
      ],
      "metadata": {
        "id": "YB2IyyfIRRqJ"
      }
    },
    {
      "cell_type": "code",
      "source": [
        "# Programme pour inverser une chaîne\n",
        "\n",
        "# Demander à l'utilisateur de saisir une chaîne\n",
        "chaine = input(\"Entrez une chaîne de caractères : \")\n",
        "\n",
        "# Inverser la chaîne en utilisant le slicing\n",
        "chaine_inversee = chaine[::-1]\n",
        "\n",
        "# Afficher la chaîne inversée\n",
        "print(f\"La chaîne inversée est : {chaine_inversee}\")"
      ],
      "metadata": {
        "colab": {
          "base_uri": "https://localhost:8080/"
        },
        "id": "NMBLrd8NRl1l",
        "outputId": "cce70959-3397-4918-d478-796a27148076"
      },
      "execution_count": 9,
      "outputs": [
        {
          "output_type": "stream",
          "name": "stdout",
          "text": [
            "Entrez une chaîne de caractères : 123465\n",
            "La chaîne inversée est : 564321\n"
          ]
        }
      ]
    },
    {
      "cell_type": "markdown",
      "source": [
        "Exercice 9: Palindrom"
      ],
      "metadata": {
        "id": "YvWA3qqOSHdQ"
      }
    },
    {
      "cell_type": "code",
      "source": [
        "# Programme pour vérifier si un mot est un palindrome\n",
        "\n",
        "# Demander à l'utilisateur de saisir un mot\n",
        "mot = input(\"Entrez un mot : \")\n",
        "\n",
        "# Supprimer les espaces et convertir en minuscules pour uniformiser\n",
        "mot = mot.replace(\" \", \"\").lower()\n",
        "\n",
        "# Vérifier si le mot est égal à son inverse\n",
        "if mot == mot[::-1]:  # Comparaison avec la chaîne inversée\n",
        "    print(f\"Le mot '{mot}' est un palindrome.\")\n",
        "else:\n",
        "    print(f\"Le mot '{mot}' n'est pas un palindrome.\")"
      ],
      "metadata": {
        "colab": {
          "base_uri": "https://localhost:8080/"
        },
        "id": "OPMIUxt8SN42",
        "outputId": "fb808140-0652-4b20-f29b-d7af7385707b"
      },
      "execution_count": 10,
      "outputs": [
        {
          "output_type": "stream",
          "name": "stdout",
          "text": [
            "Entrez un mot :  Massi\n",
            "Le mot 'massi' n'est pas un palindrome.\n"
          ]
        }
      ]
    },
    {
      "cell_type": "markdown",
      "source": [
        "Exercice 10: Factoriel"
      ],
      "metadata": {
        "id": "Ep1g3F4QSib8"
      }
    },
    {
      "cell_type": "code",
      "source": [
        "# Définir une fonction récursive pour calculer la factorielle\n",
        "def factorielle(n):\n",
        "    if n == 0 or n == 1:  # Condition de base : la factorielle de 0 ou 1 est 1\n",
        "        return 1\n",
        "    else:\n",
        "        return n * factorielle(n - 1)  # Appel récursif\n",
        "\n",
        "# Demander à l'utilisateur de saisir un nombre entier\n",
        "n = int(input(\"Entrez un nombre entier positif : \"))\n",
        "\n",
        "# Vérifier si le nombre est valide\n",
        "if n < 0:\n",
        "    print(\"La factorielle n'est pas définie pour les nombres négatifs.\")\n",
        "else:\n",
        "    resultat = factorielle(n)\n",
        "    print(f\"La factorielle de {n} est : {resultat}\")"
      ],
      "metadata": {
        "colab": {
          "base_uri": "https://localhost:8080/"
        },
        "id": "Ch3PonhJSwmX",
        "outputId": "43e6896e-0582-4044-9706-ca659ba10452"
      },
      "execution_count": 11,
      "outputs": [
        {
          "output_type": "stream",
          "name": "stdout",
          "text": [
            "Entrez un nombre entier positif : 17\n",
            "La factorielle de 17 est : 355687428096000\n"
          ]
        }
      ]
    }
  ]
}